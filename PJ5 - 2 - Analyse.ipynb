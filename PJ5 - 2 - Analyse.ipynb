{
 "cells": [
  {
   "cell_type": "markdown",
   "metadata": {},
   "source": [
    "<hr style=\"height: 4px; color: #839D2D; width: 100%; \">\n",
    "\n",
    "# <font color='#61210B'>Formation OpenClassRooms   -   Parcours DATA ANALYST</font>\n",
    "\n",
    "<hr style=\"height: 2px; color: #839D2D; width: 100%; \">\n",
    "\n",
    "## <font color='#38610B'>Projet V - Etude de Marché Internationale</font>\n",
    "\n",
    "### Partie 2 - Analyse\n",
    "  \n",
    "A partir du ...\n",
    "* <font color='#013ADF'>DataFrame <strong>gen</strong></font> : Fichier enrichi, nettoyé pour etude de marché\n",
    "\n",
    "\n",
    "**<font color='#38610B'>- Date : 15 Avr 2019</font>**  \n",
    "Auteur : Frédéric Boissy"
   ]
  },
  {
   "cell_type": "markdown",
   "metadata": {},
   "source": [
    "<hr style=\"height: 3px; color: #839D2D; width: 100%; \">\n",
    "\n",
    "###  <font color='#61210B'>INITIALISATIONS - DECLARATIONS</font>"
   ]
  },
  {
   "cell_type": "code",
   "execution_count": 1,
   "metadata": {},
   "outputs": [],
   "source": [
    "# -*- coding: utf8 -*-\n",
    "import numpy as np\n",
    "import pandas as pd\n",
    "pd.options.display.float_format = '{:,.2f}'.format   # Nombres avec sepa milliers \",\" et 2décimales après \".\"\n",
    "pd.options.mode.use_inf_as_na = True\n",
    "from pandas.plotting import scatter_matrix\n",
    "\n",
    "import seaborn as sns\n",
    "import matplotlib as matplt\n",
    "import matplotlib.pyplot as plt\n",
    "import scipy as sc\n",
    "import scipy.stats as scst\n",
    "from scipy.cluster.hierarchy import linkage, fcluster, dendrogram\n",
    "import statsmodels.api as sm\n",
    "from sklearn import decomposition, preprocessing\n",
    "from functions import *\n",
    "\n",
    "from IPython.display import display, Markdown, HTML  # pour gérer un affichage plus joli que la fonction \"print\"\n",
    "\n",
    "import time   # Librairie temps pour calculs durée par exemple\n",
    "trt_start_time = time.time()"
   ]
  },
  {
   "cell_type": "code",
   "execution_count": 2,
   "metadata": {},
   "outputs": [],
   "source": [
    "from IPython.display import display_html\n",
    "def display_side_by_side(*args):\n",
    "    html_str=''\n",
    "    for df in args:\n",
    "        html_str+=df.to_html()\n",
    "    display_html(html_str.replace('table','table style=\"display:inline\"'),raw=True)"
   ]
  },
  {
   "cell_type": "markdown",
   "metadata": {},
   "source": [
    "<hr style=\"height: 3px; color: #839D2D; width: 100%; \">\n",
    "\n",
    "### <font color='#61210B'>IMPORT DATAS</font>"
   ]
  },
  {
   "cell_type": "code",
   "execution_count": 3,
   "metadata": {
    "scrolled": true
   },
   "outputs": [
    {
     "data": {
      "text/html": [
       "<div>\n",
       "<style scoped>\n",
       "    .dataframe tbody tr th:only-of-type {\n",
       "        vertical-align: middle;\n",
       "    }\n",
       "\n",
       "    .dataframe tbody tr th {\n",
       "        vertical-align: top;\n",
       "    }\n",
       "\n",
       "    .dataframe thead th {\n",
       "        text-align: right;\n",
       "    }\n",
       "</style>\n",
       "<table border=\"1\" class=\"dataframe\">\n",
       "  <thead>\n",
       "    <tr style=\"text-align: right;\">\n",
       "      <th></th>\n",
       "      <th>pays</th>\n",
       "      <th>population</th>\n",
       "      <th>evo_pop_%</th>\n",
       "      <th>qt_kcal/h</th>\n",
       "      <th>qt_prot_gr/h</th>\n",
       "      <th>ratio_prot_viande_%</th>\n",
       "      <th>qt_volaille_Kg/h</th>\n",
       "      <th>PIBh_$</th>\n",
       "      <th>tot_poultry_exch_$</th>\n",
       "    </tr>\n",
       "  </thead>\n",
       "  <tbody>\n",
       "    <tr>\n",
       "      <th>0</th>\n",
       "      <td>Armenie</td>\n",
       "      <td>2,893,509.00</td>\n",
       "      <td>0.56</td>\n",
       "      <td>2,928.00</td>\n",
       "      <td>90.04</td>\n",
       "      <td>17.91</td>\n",
       "      <td>13.82</td>\n",
       "      <td>3,843.59</td>\n",
       "      <td>4,538.00</td>\n",
       "    </tr>\n",
       "    <tr>\n",
       "      <th>1</th>\n",
       "      <td>Afghanistan</td>\n",
       "      <td>31,731,688.00</td>\n",
       "      <td>10.17</td>\n",
       "      <td>2,090.00</td>\n",
       "      <td>58.25</td>\n",
       "      <td>8.33</td>\n",
       "      <td>2.33</td>\n",
       "      <td>647.97</td>\n",
       "      <td>0.00</td>\n",
       "    </tr>\n",
       "    <tr>\n",
       "      <th>2</th>\n",
       "      <td>Albanie</td>\n",
       "      <td>2,918,978.00</td>\n",
       "      <td>-0.73</td>\n",
       "      <td>3,193.00</td>\n",
       "      <td>111.42</td>\n",
       "      <td>20.39</td>\n",
       "      <td>14.39</td>\n",
       "      <td>4,413.08</td>\n",
       "      <td>330,235.00</td>\n",
       "    </tr>\n",
       "    <tr>\n",
       "      <th>3</th>\n",
       "      <td>Algerie</td>\n",
       "      <td>38,338,562.00</td>\n",
       "      <td>6.15</td>\n",
       "      <td>3,296.00</td>\n",
       "      <td>91.96</td>\n",
       "      <td>8.16</td>\n",
       "      <td>7.59</td>\n",
       "      <td>5,471.12</td>\n",
       "      <td>0.00</td>\n",
       "    </tr>\n",
       "    <tr>\n",
       "      <th>4</th>\n",
       "      <td>Angola</td>\n",
       "      <td>25,998,340.00</td>\n",
       "      <td>11.25</td>\n",
       "      <td>2,473.00</td>\n",
       "      <td>57.26</td>\n",
       "      <td>21.73</td>\n",
       "      <td>14.31</td>\n",
       "      <td>5,258.41</td>\n",
       "      <td>1,584,588.00</td>\n",
       "    </tr>\n",
       "  </tbody>\n",
       "</table>\n",
       "</div>"
      ],
      "text/plain": [
       "          pays    population  evo_pop_%  qt_kcal/h  qt_prot_gr/h  \\\n",
       "0      Armenie  2,893,509.00       0.56   2,928.00         90.04   \n",
       "1  Afghanistan 31,731,688.00      10.17   2,090.00         58.25   \n",
       "2      Albanie  2,918,978.00      -0.73   3,193.00        111.42   \n",
       "3      Algerie 38,338,562.00       6.15   3,296.00         91.96   \n",
       "4       Angola 25,998,340.00      11.25   2,473.00         57.26   \n",
       "\n",
       "   ratio_prot_viande_%  qt_volaille_Kg/h   PIBh_$  tot_poultry_exch_$  \n",
       "0                17.91             13.82 3,843.59            4,538.00  \n",
       "1                 8.33              2.33   647.97                0.00  \n",
       "2                20.39             14.39 4,413.08          330,235.00  \n",
       "3                 8.16              7.59 5,471.12                0.00  \n",
       "4                21.73             14.31 5,258.41        1,584,588.00  "
      ]
     },
     "execution_count": 3,
     "metadata": {},
     "output_type": "execute_result"
    }
   ],
   "source": [
    "gen = pd.read_csv(\"DATA/selection_pays.csv\")\n",
    "gen.head()"
   ]
  },
  {
   "cell_type": "code",
   "execution_count": 4,
   "metadata": {
    "scrolled": true
   },
   "outputs": [
    {
     "data": {
      "text/html": [
       "<div>\n",
       "<style scoped>\n",
       "    .dataframe tbody tr th:only-of-type {\n",
       "        vertical-align: middle;\n",
       "    }\n",
       "\n",
       "    .dataframe tbody tr th {\n",
       "        vertical-align: top;\n",
       "    }\n",
       "\n",
       "    .dataframe thead th {\n",
       "        text-align: right;\n",
       "    }\n",
       "</style>\n",
       "<table border=\"1\" class=\"dataframe\">\n",
       "  <thead>\n",
       "    <tr style=\"text-align: right;\">\n",
       "      <th></th>\n",
       "      <th>evo_pop_%</th>\n",
       "      <th>ratio_prot_viande_%</th>\n",
       "      <th>qt_kcal/h</th>\n",
       "      <th>qt_prot_gr/h</th>\n",
       "      <th>qt_volaille_Kg/h</th>\n",
       "      <th>PIBh_$</th>\n",
       "    </tr>\n",
       "    <tr>\n",
       "      <th>pays</th>\n",
       "      <th></th>\n",
       "      <th></th>\n",
       "      <th></th>\n",
       "      <th></th>\n",
       "      <th></th>\n",
       "      <th></th>\n",
       "    </tr>\n",
       "  </thead>\n",
       "  <tbody>\n",
       "    <tr>\n",
       "      <th>Armenie</th>\n",
       "      <td>0.56</td>\n",
       "      <td>17.91</td>\n",
       "      <td>2,928.00</td>\n",
       "      <td>90.04</td>\n",
       "      <td>13.82</td>\n",
       "      <td>3,843.59</td>\n",
       "    </tr>\n",
       "    <tr>\n",
       "      <th>Afghanistan</th>\n",
       "      <td>10.17</td>\n",
       "      <td>8.33</td>\n",
       "      <td>2,090.00</td>\n",
       "      <td>58.25</td>\n",
       "      <td>2.33</td>\n",
       "      <td>647.97</td>\n",
       "    </tr>\n",
       "    <tr>\n",
       "      <th>Albanie</th>\n",
       "      <td>-0.73</td>\n",
       "      <td>20.39</td>\n",
       "      <td>3,193.00</td>\n",
       "      <td>111.42</td>\n",
       "      <td>14.39</td>\n",
       "      <td>4,413.08</td>\n",
       "    </tr>\n",
       "    <tr>\n",
       "      <th>Algerie</th>\n",
       "      <td>6.15</td>\n",
       "      <td>8.16</td>\n",
       "      <td>3,296.00</td>\n",
       "      <td>91.96</td>\n",
       "      <td>7.59</td>\n",
       "      <td>5,471.12</td>\n",
       "    </tr>\n",
       "    <tr>\n",
       "      <th>Angola</th>\n",
       "      <td>11.25</td>\n",
       "      <td>21.73</td>\n",
       "      <td>2,473.00</td>\n",
       "      <td>57.26</td>\n",
       "      <td>14.31</td>\n",
       "      <td>5,258.41</td>\n",
       "    </tr>\n",
       "  </tbody>\n",
       "</table>\n",
       "</div>"
      ],
      "text/plain": [
       "             evo_pop_%  ratio_prot_viande_%  qt_kcal/h  qt_prot_gr/h  \\\n",
       "pays                                                                   \n",
       "Armenie           0.56                17.91   2,928.00         90.04   \n",
       "Afghanistan      10.17                 8.33   2,090.00         58.25   \n",
       "Albanie          -0.73                20.39   3,193.00        111.42   \n",
       "Algerie           6.15                 8.16   3,296.00         91.96   \n",
       "Angola           11.25                21.73   2,473.00         57.26   \n",
       "\n",
       "             qt_volaille_Kg/h   PIBh_$  \n",
       "pays                                    \n",
       "Armenie                 13.82 3,843.59  \n",
       "Afghanistan              2.33   647.97  \n",
       "Albanie                 14.39 4,413.08  \n",
       "Algerie                  7.59 5,471.12  \n",
       "Angola                  14.31 5,258.41  "
      ]
     },
     "execution_count": 4,
     "metadata": {},
     "output_type": "execute_result"
    }
   ],
   "source": [
    "df = gen[['pays', 'evo_pop_%', 'ratio_prot_viande_%', 'qt_kcal/h', 'qt_prot_gr/h',\n",
    "          'qt_volaille_Kg/h', 'PIBh_$']].copy()\n",
    "# df = gen.copy()\n",
    "df = df.set_index('pays')\n",
    "df.head()"
   ]
  },
  {
   "cell_type": "code",
   "execution_count": 5,
   "metadata": {
    "scrolled": false
   },
   "outputs": [
    {
     "name": "stdout",
     "output_type": "stream",
     "text": [
      "<class 'pandas.core.frame.DataFrame'>\n",
      "Index: 168 entries, Armenie to Soudan\n",
      "Data columns (total 6 columns):\n",
      "evo_pop_%              168 non-null float64\n",
      "ratio_prot_viande_%    168 non-null float64\n",
      "qt_kcal/h              168 non-null float64\n",
      "qt_prot_gr/h           168 non-null float64\n",
      "qt_volaille_Kg/h       168 non-null float64\n",
      "PIBh_$                 168 non-null float64\n",
      "dtypes: float64(6)\n",
      "memory usage: 9.2+ KB\n",
      "(168, 6)\n"
     ]
    },
    {
     "data": {
      "text/html": [
       "<div>\n",
       "<style scoped>\n",
       "    .dataframe tbody tr th:only-of-type {\n",
       "        vertical-align: middle;\n",
       "    }\n",
       "\n",
       "    .dataframe tbody tr th {\n",
       "        vertical-align: top;\n",
       "    }\n",
       "\n",
       "    .dataframe thead th {\n",
       "        text-align: right;\n",
       "    }\n",
       "</style>\n",
       "<table border=\"1\" class=\"dataframe\">\n",
       "  <thead>\n",
       "    <tr style=\"text-align: right;\">\n",
       "      <th></th>\n",
       "      <th>evo_pop_%</th>\n",
       "      <th>ratio_prot_viande_%</th>\n",
       "      <th>qt_kcal/h</th>\n",
       "      <th>qt_prot_gr/h</th>\n",
       "      <th>qt_volaille_Kg/h</th>\n",
       "      <th>PIBh_$</th>\n",
       "    </tr>\n",
       "  </thead>\n",
       "  <tbody>\n",
       "    <tr>\n",
       "      <th>count</th>\n",
       "      <td>168.00</td>\n",
       "      <td>168.00</td>\n",
       "      <td>168.00</td>\n",
       "      <td>168.00</td>\n",
       "      <td>168.00</td>\n",
       "      <td>168.00</td>\n",
       "    </tr>\n",
       "    <tr>\n",
       "      <th>mean</th>\n",
       "      <td>4.46</td>\n",
       "      <td>20.17</td>\n",
       "      <td>2,849.73</td>\n",
       "      <td>81.27</td>\n",
       "      <td>22.18</td>\n",
       "      <td>14,753.64</td>\n",
       "    </tr>\n",
       "    <tr>\n",
       "      <th>std</th>\n",
       "      <td>4.31</td>\n",
       "      <td>9.44</td>\n",
       "      <td>438.77</td>\n",
       "      <td>20.03</td>\n",
       "      <td>18.84</td>\n",
       "      <td>20,965.00</td>\n",
       "    </tr>\n",
       "    <tr>\n",
       "      <th>min</th>\n",
       "      <td>-4.39</td>\n",
       "      <td>2.19</td>\n",
       "      <td>1,879.00</td>\n",
       "      <td>37.66</td>\n",
       "      <td>0.38</td>\n",
       "      <td>332.92</td>\n",
       "    </tr>\n",
       "    <tr>\n",
       "      <th>25%</th>\n",
       "      <td>1.38</td>\n",
       "      <td>12.57</td>\n",
       "      <td>2,524.25</td>\n",
       "      <td>64.22</td>\n",
       "      <td>6.37</td>\n",
       "      <td>1,866.19</td>\n",
       "    </tr>\n",
       "    <tr>\n",
       "      <th>50%</th>\n",
       "      <td>3.91</td>\n",
       "      <td>20.67</td>\n",
       "      <td>2,829.50</td>\n",
       "      <td>81.26</td>\n",
       "      <td>18.91</td>\n",
       "      <td>6,131.56</td>\n",
       "    </tr>\n",
       "    <tr>\n",
       "      <th>75%</th>\n",
       "      <td>7.05</td>\n",
       "      <td>27.12</td>\n",
       "      <td>3,201.75</td>\n",
       "      <td>94.88</td>\n",
       "      <td>30.23</td>\n",
       "      <td>16,087.05</td>\n",
       "    </tr>\n",
       "    <tr>\n",
       "      <th>max</th>\n",
       "      <td>22.03</td>\n",
       "      <td>42.80</td>\n",
       "      <td>3,768.00</td>\n",
       "      <td>133.54</td>\n",
       "      <td>75.54</td>\n",
       "      <td>113,625.13</td>\n",
       "    </tr>\n",
       "  </tbody>\n",
       "</table>\n",
       "</div>"
      ],
      "text/plain": [
       "       evo_pop_%  ratio_prot_viande_%  qt_kcal/h  qt_prot_gr/h  \\\n",
       "count     168.00               168.00     168.00        168.00   \n",
       "mean        4.46                20.17   2,849.73         81.27   \n",
       "std         4.31                 9.44     438.77         20.03   \n",
       "min        -4.39                 2.19   1,879.00         37.66   \n",
       "25%         1.38                12.57   2,524.25         64.22   \n",
       "50%         3.91                20.67   2,829.50         81.26   \n",
       "75%         7.05                27.12   3,201.75         94.88   \n",
       "max        22.03                42.80   3,768.00        133.54   \n",
       "\n",
       "       qt_volaille_Kg/h     PIBh_$  \n",
       "count            168.00     168.00  \n",
       "mean              22.18  14,753.64  \n",
       "std               18.84  20,965.00  \n",
       "min                0.38     332.92  \n",
       "25%                6.37   1,866.19  \n",
       "50%               18.91   6,131.56  \n",
       "75%               30.23  16,087.05  \n",
       "max               75.54 113,625.13  "
      ]
     },
     "execution_count": 5,
     "metadata": {},
     "output_type": "execute_result"
    }
   ],
   "source": [
    "df.info()\n",
    "print(df.shape)\n",
    "df.describe(include=\"all\")"
   ]
  },
  {
   "cell_type": "markdown",
   "metadata": {},
   "source": [
    "<hr style=\"height: 3px; color: #839D2D; width: 100%; \">\n",
    "\n",
    "### <font color='#61210B'>CREATION DES GROUPES DE PAYS</font>"
   ]
  },
  {
   "cell_type": "markdown",
   "metadata": {},
   "source": [
    "<b>DENDROGRAMME - Sur les 6 variables (4 Imposées + 2)</b>"
   ]
  },
  {
   "cell_type": "code",
   "execution_count": 6,
   "metadata": {
    "scrolled": false
   },
   "outputs": [
    {
     "data": {
      "image/png": "[encoded data removed]",
      "text/plain": [
       "<Figure size 1080x720 with 1 Axes>"
      ]
     },
     "metadata": {
      "needs_background": "light"
     },
     "output_type": "display_data"
    }
   ],
   "source": [
    "# préparation des données pour le clustering\n",
    "X = df.values\n",
    "pays = df.index\n",
    "# Centrage et Réduction\n",
    "X_scaled = preprocessing.StandardScaler().fit_transform(X)\n",
    "# Clustering hiérarchique\n",
    "Z = linkage(X_scaled, 'ward')\n",
    "# Affichage du dendrogramme\n",
    "plt.figure(figsize=(15,10))\n",
    "plt.axhline(9, color=\"grey\")\n",
    "dendrogram(Z, labels = pays, orientation = \"top\")\n",
    "\n",
    "plt.title('Dendrogram Pays - D1')\n",
    "plt.xlabel('Pays')\n",
    "plt.ylabel('Distance')\n",
    "plt.yticks(size=8)\n",
    "plt.savefig('OUTFILES/Etude1-Dendrogramme_full_PJ5.png', \n",
    "            dpi=100, bbox_inches='tight')\n",
    "\n",
    "plt.show()\n",
    "plt.close()"
   ]
  },
  {
   "cell_type": "markdown",
   "metadata": {},
   "source": [
    "<b>DECOUPAGE - Groupes/Clusters</b>\n",
    "\n",
    "A la lecture de ce dendrogramme, la decoupe en 6 groupes apparait pertinentes."
   ]
  },
  {
   "cell_type": "code",
   "execution_count": 7,
   "metadata": {},
   "outputs": [
    {
     "data": {
      "image/png": "[encoded data removed]",
      "text/plain": [
       "<Figure size 432x288 with 1 Axes>"
      ]
     },
     "metadata": {
      "needs_background": "light"
     },
     "output_type": "display_data"
    }
   ],
   "source": [
    "dendrogram(Z, truncate_mode = 'lastp', p=6)\n",
    "plt.title(\"Nombre de Pays / Groupe - D1\", fontsize=15, color = 'darkblue')\n",
    "plt.xticks(size=12)\n",
    "plt.xlabel('Gr1        Gr2        Gr3         Gr4         Gr5        Gr6', color = 'darkblue', size=12)\n",
    "plt.savefig('OUTFILES/Etude1-Dendrogramme_trunc_PJ5.png', dpi=100, bbox_inches='tight')\n",
    "plt.show()\n",
    "plt.close()"
   ]
  },
  {
   "cell_type": "code",
   "execution_count": 8,
   "metadata": {},
   "outputs": [
    {
     "data": {
      "text/html": [
       "<div>\n",
       "<style scoped>\n",
       "    .dataframe tbody tr th:only-of-type {\n",
       "        vertical-align: middle;\n",
       "    }\n",
       "\n",
       "    .dataframe tbody tr th {\n",
       "        vertical-align: top;\n",
       "    }\n",
       "\n",
       "    .dataframe thead th {\n",
       "        text-align: right;\n",
       "    }\n",
       "</style>\n",
       "<table border=\"1\" class=\"dataframe\">\n",
       "  <thead>\n",
       "    <tr style=\"text-align: right;\">\n",
       "      <th></th>\n",
       "      <th>evo_pop_%</th>\n",
       "      <th>ratio_prot_viande_%</th>\n",
       "      <th>qt_kcal/h</th>\n",
       "      <th>qt_prot_gr/h</th>\n",
       "      <th>qt_volaille_Kg/h</th>\n",
       "      <th>PIBh_$</th>\n",
       "      <th>groupe</th>\n",
       "    </tr>\n",
       "    <tr>\n",
       "      <th>pays</th>\n",
       "      <th></th>\n",
       "      <th></th>\n",
       "      <th></th>\n",
       "      <th></th>\n",
       "      <th></th>\n",
       "      <th></th>\n",
       "      <th></th>\n",
       "    </tr>\n",
       "  </thead>\n",
       "  <tbody>\n",
       "    <tr>\n",
       "      <th>Armenie</th>\n",
       "      <td>0.56</td>\n",
       "      <td>17.91</td>\n",
       "      <td>2,928.00</td>\n",
       "      <td>90.04</td>\n",
       "      <td>13.82</td>\n",
       "      <td>3,843.59</td>\n",
       "      <td>4</td>\n",
       "    </tr>\n",
       "    <tr>\n",
       "      <th>Afghanistan</th>\n",
       "      <td>10.17</td>\n",
       "      <td>8.33</td>\n",
       "      <td>2,090.00</td>\n",
       "      <td>58.25</td>\n",
       "      <td>2.33</td>\n",
       "      <td>647.97</td>\n",
       "      <td>1</td>\n",
       "    </tr>\n",
       "    <tr>\n",
       "      <th>Albanie</th>\n",
       "      <td>-0.73</td>\n",
       "      <td>20.39</td>\n",
       "      <td>3,193.00</td>\n",
       "      <td>111.42</td>\n",
       "      <td>14.39</td>\n",
       "      <td>4,413.08</td>\n",
       "      <td>4</td>\n",
       "    </tr>\n",
       "    <tr>\n",
       "      <th>Algerie</th>\n",
       "      <td>6.15</td>\n",
       "      <td>8.16</td>\n",
       "      <td>3,296.00</td>\n",
       "      <td>91.96</td>\n",
       "      <td>7.59</td>\n",
       "      <td>5,471.12</td>\n",
       "      <td>4</td>\n",
       "    </tr>\n",
       "    <tr>\n",
       "      <th>Angola</th>\n",
       "      <td>11.25</td>\n",
       "      <td>21.73</td>\n",
       "      <td>2,473.00</td>\n",
       "      <td>57.26</td>\n",
       "      <td>14.31</td>\n",
       "      <td>5,258.41</td>\n",
       "      <td>1</td>\n",
       "    </tr>\n",
       "  </tbody>\n",
       "</table>\n",
       "</div>"
      ],
      "text/plain": [
       "             evo_pop_%  ratio_prot_viande_%  qt_kcal/h  qt_prot_gr/h  \\\n",
       "pays                                                                   \n",
       "Armenie           0.56                17.91   2,928.00         90.04   \n",
       "Afghanistan      10.17                 8.33   2,090.00         58.25   \n",
       "Albanie          -0.73                20.39   3,193.00        111.42   \n",
       "Algerie           6.15                 8.16   3,296.00         91.96   \n",
       "Angola           11.25                21.73   2,473.00         57.26   \n",
       "\n",
       "             qt_volaille_Kg/h   PIBh_$  groupe  \n",
       "pays                                            \n",
       "Armenie                 13.82 3,843.59       4  \n",
       "Afghanistan              2.33   647.97       1  \n",
       "Albanie                 14.39 4,413.08       4  \n",
       "Algerie                  7.59 5,471.12       4  \n",
       "Angola                  14.31 5,258.41       1  "
      ]
     },
     "execution_count": 8,
     "metadata": {},
     "output_type": "execute_result"
    }
   ],
   "source": [
    "# Coupage du dendrogramme en 6 clusters\n",
    "clusters = fcluster(Z, 6, criterion='maxclust')\n",
    "# Comparaison des clusters trouvés avec les classification des pays\n",
    "dfgrp = pd.DataFrame({\"pays\": pays, \"groupe\": clusters})\n",
    "# Ajoutons le Groupe/Cluster au Dataframe\n",
    "df[\"groupe\"] = clusters\n",
    "df.head()"
   ]
  },
  {
   "cell_type": "code",
   "execution_count": null,
   "metadata": {},
   "outputs": [],
   "source": []
  },
  {
   "cell_type": "markdown",
   "metadata": {},
   "source": [
    "#### Mémorisation des Groupes/Clusters dans des Dataframe  (g1, g2, g3...)"
   ]
  },
  {
   "cell_type": "code",
   "execution_count": 9,
   "metadata": {},
   "outputs": [],
   "source": [
    "gp1 = df.groupby(\"groupe\").get_group(1) \n",
    "gp2 = df.groupby(\"groupe\").get_group(2)  \n",
    "gp3 = df.groupby(\"groupe\").get_group(3) \n",
    "gp4 = df.groupby(\"groupe\").get_group(4)  \n",
    "gp5 = df.groupby(\"groupe\").get_group(5) \n",
    "gp6 = df.groupby(\"groupe\").get_group(6) "
   ]
  },
  {
   "cell_type": "markdown",
   "metadata": {},
   "source": [
    "#### Export dans fichiers csv & excels"
   ]
  },
  {
   "cell_type": "code",
   "execution_count": 10,
   "metadata": {},
   "outputs": [],
   "source": [
    "df.to_csv('OUTFILES/Etude1-Pays_Groupes_dendro.csv', sep=',', encoding='utf-8')  #  Index = False si pas besoin de l'index"
   ]
  },
  {
   "cell_type": "code",
   "execution_count": 11,
   "metadata": {},
   "outputs": [],
   "source": [
    "path = \"OUTFILES/Etude1-Pays_Groupes_dendro.xlsx\"\n",
    "writer = pd.ExcelWriter(path, engine='xlsxwriter')\n",
    "df.to_excel(writer, 'Sheet1')\n",
    "gp1.to_excel(writer, 'Groupe1')\n",
    "gp2.to_excel(writer, 'Groupe2')\n",
    "gp3.to_excel(writer, 'Groupe3')\n",
    "gp4.to_excel(writer, 'Groupe4')\n",
    "gp5.to_excel(writer, 'Groupe5')\n",
    "gp6.to_excel(writer, 'Groupe6')\n",
    "writer.save()"
   ]
  },
  {
   "cell_type": "code",
   "execution_count": 12,
   "metadata": {},
   "outputs": [],
   "source": [
    "writer.save()"
   ]
  },
  {
   "cell_type": "markdown",
   "metadata": {},
   "source": [
    "#### Calcul des Centroides"
   ]
  },
  {
   "cell_type": "code",
   "execution_count": 13,
   "metadata": {
    "scrolled": false
   },
   "outputs": [
    {
     "data": {
      "text/html": [
       "<div>\n",
       "<style scoped>\n",
       "    .dataframe tbody tr th:only-of-type {\n",
       "        vertical-align: middle;\n",
       "    }\n",
       "\n",
       "    .dataframe tbody tr th {\n",
       "        vertical-align: top;\n",
       "    }\n",
       "\n",
       "    .dataframe thead th {\n",
       "        text-align: right;\n",
       "    }\n",
       "</style>\n",
       "<table border=\"1\" class=\"dataframe\">\n",
       "  <thead>\n",
       "    <tr style=\"text-align: right;\">\n",
       "      <th></th>\n",
       "      <th>count</th>\n",
       "      <th>evo_pop_%</th>\n",
       "      <th>qt_kcal/h</th>\n",
       "      <th>qt_prot_gr/h</th>\n",
       "      <th>ratio_prot_viande_%</th>\n",
       "      <th>qt_volaille_Kg/h</th>\n",
       "      <th>PIBh_$</th>\n",
       "    </tr>\n",
       "    <tr>\n",
       "      <th>groupe</th>\n",
       "      <th></th>\n",
       "      <th></th>\n",
       "      <th></th>\n",
       "      <th></th>\n",
       "      <th></th>\n",
       "      <th></th>\n",
       "      <th></th>\n",
       "    </tr>\n",
       "  </thead>\n",
       "  <tbody>\n",
       "    <tr>\n",
       "      <th>1</th>\n",
       "      <td>51</td>\n",
       "      <td>7.53</td>\n",
       "      <td>2,393.65</td>\n",
       "      <td>60.29</td>\n",
       "      <td>10.81</td>\n",
       "      <td>4.89</td>\n",
       "      <td>1,793.06</td>\n",
       "    </tr>\n",
       "    <tr>\n",
       "      <th>2</th>\n",
       "      <td>22</td>\n",
       "      <td>2.58</td>\n",
       "      <td>3,391.59</td>\n",
       "      <td>108.31</td>\n",
       "      <td>29.61</td>\n",
       "      <td>31.87</td>\n",
       "      <td>59,650.60</td>\n",
       "    </tr>\n",
       "    <tr>\n",
       "      <th>3</th>\n",
       "      <td>26</td>\n",
       "      <td>3.97</td>\n",
       "      <td>2,676.62</td>\n",
       "      <td>72.78</td>\n",
       "      <td>21.56</td>\n",
       "      <td>18.96</td>\n",
       "      <td>5,490.82</td>\n",
       "    </tr>\n",
       "    <tr>\n",
       "      <th>4</th>\n",
       "      <td>38</td>\n",
       "      <td>0.86</td>\n",
       "      <td>3,193.55</td>\n",
       "      <td>96.30</td>\n",
       "      <td>19.47</td>\n",
       "      <td>19.61</td>\n",
       "      <td>12,570.54</td>\n",
       "    </tr>\n",
       "    <tr>\n",
       "      <th>5</th>\n",
       "      <td>4</td>\n",
       "      <td>20.21</td>\n",
       "      <td>3,202.50</td>\n",
       "      <td>88.95</td>\n",
       "      <td>22.81</td>\n",
       "      <td>32.07</td>\n",
       "      <td>20,606.95</td>\n",
       "    </tr>\n",
       "    <tr>\n",
       "      <th>6</th>\n",
       "      <td>27</td>\n",
       "      <td>3.38</td>\n",
       "      <td>2,900.26</td>\n",
       "      <td>84.73</td>\n",
       "      <td>29.41</td>\n",
       "      <td>52.15</td>\n",
       "      <td>13,777.15</td>\n",
       "    </tr>\n",
       "  </tbody>\n",
       "</table>\n",
       "</div>"
      ],
      "text/plain": [
       "        count  evo_pop_%  qt_kcal/h  qt_prot_gr/h  ratio_prot_viande_%  \\\n",
       "groupe                                                                   \n",
       "1          51       7.53   2,393.65         60.29                10.81   \n",
       "2          22       2.58   3,391.59        108.31                29.61   \n",
       "3          26       3.97   2,676.62         72.78                21.56   \n",
       "4          38       0.86   3,193.55         96.30                19.47   \n",
       "5           4      20.21   3,202.50         88.95                22.81   \n",
       "6          27       3.38   2,900.26         84.73                29.41   \n",
       "\n",
       "        qt_volaille_Kg/h    PIBh_$  \n",
       "groupe                              \n",
       "1                   4.89  1,793.06  \n",
       "2                  31.87 59,650.60  \n",
       "3                  18.96  5,490.82  \n",
       "4                  19.61 12,570.54  \n",
       "5                  32.07 20,606.95  \n",
       "6                  52.15 13,777.15  "
      ]
     },
     "execution_count": 13,
     "metadata": {},
     "output_type": "execute_result"
    }
   ],
   "source": [
    "#centroide = df.groupby(\"groupe\").mean()\n",
    "centroide = df.groupby('groupe') \\\n",
    "       .agg({'groupe':'size', 'evo_pop_%':'mean', 'qt_kcal/h':'mean', 'qt_prot_gr/h':'mean', \n",
    "             'ratio_prot_viande_%':'mean', 'qt_volaille_Kg/h':'mean', 'PIBh_$':'mean'}) \\\n",
    "       .rename(columns={'groupe':'count'})\n",
    "\n",
    "centroide"
   ]
  },
  {
   "cell_type": "markdown",
   "metadata": {},
   "source": [
    "* Groupe1 - Pays très faiblement développés (PIB/h faible) / très peu consommateurs de volailles\n",
    "* <b> Groupe2 - Pays bien developpés à fort potentiel (PIB/h élevé) et assez bons consommateurs de volailles</b>\n",
    "* Groupe3 - Pays faiblement développés et peu consommateurs de volailles\n",
    "* <b> Groupe4 - Pays moyennement développés et peu consommateurs de volailles<b>\n",
    "* <b> Groupe5 - Pays moyen-orient à forte évolution démographique et bons consommateurs de volailles</b>\n",
    "* <b> Groupe6 - Pays moyennement développés mais fort consommateurs de volailles</b>  \n"
   ]
  },
  {
   "cell_type": "code",
   "execution_count": 14,
   "metadata": {},
   "outputs": [],
   "source": [
    "# Exports Fichiers csv/excel\n",
    "centroide.to_csv('OUTFILES/Etude1-centroide_dendro.csv', sep=',', encoding='utf-8')\n",
    "centroide.to_excel(\"OUTFILES/Etude1-centroide_dendro.xlsx\", sheet_name='Sheet1')"
   ]
  },
  {
   "cell_type": "markdown",
   "metadata": {},
   "source": [
    "<hr style=\"height: 3px; color: #839D2D; width: 100%; \">\n",
    "\n",
    "### <font color='#61210B'>CALCUL DES COMPOSANTES PRINCIPALES (sur colonnes/variables)</font>"
   ]
  },
  {
   "cell_type": "code",
   "execution_count": 15,
   "metadata": {
    "scrolled": true
   },
   "outputs": [
    {
     "data": {
      "text/html": [
       "<div>\n",
       "<style scoped>\n",
       "    .dataframe tbody tr th:only-of-type {\n",
       "        vertical-align: middle;\n",
       "    }\n",
       "\n",
       "    .dataframe tbody tr th {\n",
       "        vertical-align: top;\n",
       "    }\n",
       "\n",
       "    .dataframe thead th {\n",
       "        text-align: right;\n",
       "    }\n",
       "</style>\n",
       "<table border=\"1\" class=\"dataframe\">\n",
       "  <thead>\n",
       "    <tr style=\"text-align: right;\">\n",
       "      <th></th>\n",
       "      <th>F1</th>\n",
       "      <th>F2</th>\n",
       "      <th>F3</th>\n",
       "      <th>F4</th>\n",
       "      <th>F5</th>\n",
       "      <th>F6</th>\n",
       "    </tr>\n",
       "    <tr>\n",
       "      <th>pays</th>\n",
       "      <th></th>\n",
       "      <th></th>\n",
       "      <th></th>\n",
       "      <th></th>\n",
       "      <th></th>\n",
       "      <th></th>\n",
       "    </tr>\n",
       "  </thead>\n",
       "  <tbody>\n",
       "    <tr>\n",
       "      <th>Armenie</th>\n",
       "      <td>0.05</td>\n",
       "      <td>-0.66</td>\n",
       "      <td>-1.00</td>\n",
       "      <td>-0.20</td>\n",
       "      <td>0.20</td>\n",
       "      <td>0.24</td>\n",
       "    </tr>\n",
       "    <tr>\n",
       "      <th>Afghanistan</th>\n",
       "      <td>-2.91</td>\n",
       "      <td>0.13</td>\n",
       "      <td>0.69</td>\n",
       "      <td>0.29</td>\n",
       "      <td>-0.10</td>\n",
       "      <td>0.45</td>\n",
       "    </tr>\n",
       "    <tr>\n",
       "      <th>Albanie</th>\n",
       "      <td>1.05</td>\n",
       "      <td>-1.20</td>\n",
       "      <td>-1.13</td>\n",
       "      <td>-0.62</td>\n",
       "      <td>0.46</td>\n",
       "      <td>0.59</td>\n",
       "    </tr>\n",
       "    <tr>\n",
       "      <th>Algerie</th>\n",
       "      <td>-0.42</td>\n",
       "      <td>-1.67</td>\n",
       "      <td>0.25</td>\n",
       "      <td>-0.91</td>\n",
       "      <td>-0.21</td>\n",
       "      <td>-0.15</td>\n",
       "    </tr>\n",
       "    <tr>\n",
       "      <th>Angola</th>\n",
       "      <td>-1.66</td>\n",
       "      <td>0.88</td>\n",
       "      <td>1.09</td>\n",
       "      <td>0.03</td>\n",
       "      <td>0.53</td>\n",
       "      <td>-0.31</td>\n",
       "    </tr>\n",
       "  </tbody>\n",
       "</table>\n",
       "</div>"
      ],
      "text/plain": [
       "               F1    F2    F3    F4    F5    F6\n",
       "pays                                           \n",
       "Armenie      0.05 -0.66 -1.00 -0.20  0.20  0.24\n",
       "Afghanistan -2.91  0.13  0.69  0.29 -0.10  0.45\n",
       "Albanie      1.05 -1.20 -1.13 -0.62  0.46  0.59\n",
       "Algerie     -0.42 -1.67  0.25 -0.91 -0.21 -0.15\n",
       "Angola      -1.66  0.88  1.09  0.03  0.53 -0.31"
      ]
     },
     "execution_count": 15,
     "metadata": {},
     "output_type": "execute_result"
    }
   ],
   "source": [
    "# choix du nombre de composantes à calculer\n",
    "n_comp = 6\n",
    "\n",
    "# import de l'échantillon\n",
    "data = df.copy()\n",
    "data.drop(columns=['groupe'], inplace=True)\n",
    "\n",
    "# selection des colonnes à prendre en compte dans l'ACP\n",
    "cols = data.columns\n",
    "data_pca = data[cols]\n",
    "\n",
    "# préparation des données pour l'ACP\n",
    "data_pca = data_pca.fillna(data_pca.mean()) # Il est fréquent de remplacer les valeurs inconnues par la moyenne de la variable\n",
    "X = data_pca.values\n",
    "names = data.index # data[\"pays\"] # ou data.index pour avoir les intitulés\n",
    "features = data.columns\n",
    "\n",
    "# Centrage et Réduction\n",
    "std_scale = preprocessing.StandardScaler().fit(X)\n",
    "X_scaled = std_scale.transform(X)\n",
    "\n",
    "# Calcul des composantes principales\n",
    "pca = decomposition.PCA(n_components=n_comp)\n",
    "pca.fit(X_scaled)\n",
    "\n",
    "X_projected = pca.fit_transform(X_scaled)\n",
    "df_comp = pd.DataFrame(X_projected, index=data.index, \n",
    "                       columns=[\"F\"+str(i+1) for i in range(n_comp)])\n",
    "df_comp.head()"
   ]
  },
  {
   "cell_type": "markdown",
   "metadata": {},
   "source": [
    "<hr style=\"height: 2px; color: #839D2D; width: 100%; \">\n",
    "\n",
    "#### Eboulis des Valeurs Propres  (Scree Plot) après ACP\n",
    "#### Fixons un seuil de 90% pour notre variance cumulée.\n"
   ]
  },
  {
   "cell_type": "code",
   "execution_count": 16,
   "metadata": {
    "scrolled": false
   },
   "outputs": [
    {
     "data": {
      "image/png": "[encoded data removed]",
      "text/plain": [
       "<Figure size 432x432 with 1 Axes>"
      ]
     },
     "metadata": {
      "needs_background": "light"
     },
     "output_type": "display_data"
    }
   ],
   "source": [
    "# Eboulis des valeurs propres\n",
    "plt.figure(figsize=(6,6))\n",
    "v = np.cumsum(pca.explained_variance_ratio_)*100\n",
    "\n",
    "plt.axhline(v[0], xmax=0.16, color=\"grey\")\n",
    "plt.axhline(v[1]-v[0], xmax=0.32, color=\"grey\")\n",
    "plt.axhline(v[2]-v[1], xmax=0.48, color=\"grey\")\n",
    "plt.axhline(v[3]-v[2], xmax=0.64, color=\"grey\")\n",
    "plt.axvline(4, color=\"green\")\n",
    "\n",
    "plt.text(-1,68, \"Variance Expliquée\", color = 'black', size=12, rotation=90)\n",
    "plt.text(2.25,-18, \"Composant Principal\", color = 'black', size=12)\n",
    "plt.text(0.5,-30, \"Variance Cumulée : %s\" %np.round(v, 1), color = 'darkred', size=12)\n",
    "plt.xlabel('', color = 'darkblue', size=12)\n",
    "plt.ylabel('', color = 'darkblue', size=12)\n",
    "\n",
    "scree = pca.explained_variance_ratio_*100\n",
    "plt.bar(np.arange(len(scree))+1, scree)\n",
    "plt.plot(np.arange(len(scree))+1, scree.cumsum(),c=\"red\",marker='o')\n",
    "plt.xlabel(\"Rang de l'axe d'inertie\")\n",
    "plt.ylabel(\"Pourcentage d'inertie\")\n",
    "plt.title(\"Eboulis des valeurs propres - Variance/Composant\")\n",
    "plt.savefig('OUTFILES/Etude2-Eboulis_Valeurs_Propres_PJ5.png', dpi=100, bbox_inches='tight')\n",
    "plt.show()\n",
    "plt.close()"
   ]
  },
  {
   "cell_type": "markdown",
   "metadata": {},
   "source": [
    "<b>Critère de rétention d’un composant principal</b> :  \n",
    "Une fois, nos composants déterminer, nous devons retenir ceux ayant des variances importantes et ignorer ceux ayant de faibles variances.   \n",
    "\n",
    "Pour ce faire on peut se baser sur les critères suivantes( ce ne sont pas des lois) :\n",
    "\n",
    "- Retenir les k composants ayant une valeur propre supérieure à 1(Critère de Kaiser – Guttman)  \n",
    "- Retenir les k composants dont les valeurs propres précédent la cassure de la courbe on parle aussi du coude  \n",
    "- <font color='darkgreen'>Retenir les k premiers composants qui expliquent y% de la variance.</font>  \n",
    "- Retenir les k premiers composants dont la part ou proportion de variance est supérieur à la moyenne( y % > 1/p%)  \n",
    "\n",
    "\n",
    "#### Pour expliquer notre seuil de départ (> 90%), je choisis les 4 premiers composants (94.5%)"
   ]
  },
  {
   "cell_type": "markdown",
   "metadata": {},
   "source": [
    "<hr style=\"height: 2px; color: #839D2D; width: 100%; \">\n",
    "\n",
    "#### Visualisation Cercles des Corrélations Obtenus par ACP"
   ]
  },
  {
   "cell_type": "code",
   "execution_count": 17,
   "metadata": {
    "scrolled": false
   },
   "outputs": [
    {
     "data": {
      "image/png": "[encoded data removed]",
      "text/plain": [
       "<Figure size 504x504 with 1 Axes>"
      ]
     },
     "metadata": {
      "needs_background": "light"
     },
     "output_type": "display_data"
    },
    {
     "data": {
      "image/png": "[encoded data removed]",
      "text/plain": [
       "<Figure size 504x504 with 1 Axes>"
      ]
     },
     "metadata": {
      "needs_background": "light"
     },
     "output_type": "display_data"
    }
   ],
   "source": [
    "# Cercle des corrélations\n",
    "pcs = pca.components_\n",
    "display_circles(pcs, n_comp, pca, [(0,1)], labels = np.array(features))\n",
    "plt.savefig('OUTFILES/Etude2-Cercle_Corr_1er_Plan_Facto_PJ5.png', dpi=100, bbox_inches='tight')\n",
    "plt.show()\n",
    "plt.close()\n",
    "display_circles(pcs, n_comp, pca, [(0,2)], labels = np.array(features))\n",
    "plt.savefig('OUTFILES/Etude2-Cercle_Corr_2em_Plan_Facto_PJ5.png', dpi=100, bbox_inches='tight')\n",
    "plt.show()\n",
    "plt.close()"
   ]
  },
  {
   "cell_type": "markdown",
   "metadata": {},
   "source": [
    "SUR LE PREMIER PLAN FACTORIEL ON CONSTATE QUE 2 GROUPES DE VARIABLES CORRELEES SE DESSINENT (vu aussi sur la Heatmap) :\n",
    "    - QT_VOLAILLE_KG/H & LE RATIO DE PROTEINES_VIANDE\n",
    "    - QT_KCAL & QT_PROT\n",
    "\n",
    "DE PLUS, CES GROUPES, FORMANT UN ANGLE DE 90° ENTRE EUX, NE SONT ABSOLUEMENT PAS CORRELES ENTRE EUX.\n",
    "\n",
    "DANS UNE CERTAINE MESURE, IL Y A PEUT-ETRE UNE CORRELATION NEGATIVE ENTRE L'EVOLUTION DE LA POPULATION ET LE PIB/H.  \n",
    "L'EFFET PARAIT CEPENDANT FAIBLE DU FAIT DE LA COURTE PROJECTION (on est loin du cercle)\n",
    "\n",
    "SUR LE 2EME PLAN FACTORIEL, ON CONSTATE QUE L'EVO% DE LA POPULATION EST BIEN REPRESENTEE CAR ELLE EST PROCHE DU BORD DU CERCLE."
   ]
  },
  {
   "cell_type": "markdown",
   "metadata": {},
   "source": [
    "<hr style=\"height: 2px; color: #839D2D; width: 100%; \">\n",
    "\n",
    "#### Visualisation des Groupes dans le premier Plan Factoriel Obtenu par ACP  (F1-F2)"
   ]
  },
  {
   "cell_type": "code",
   "execution_count": 18,
   "metadata": {
    "scrolled": false
   },
   "outputs": [
    {
     "data": {
      "image/png": "[encoded data removed]",
      "text/plain": [
       "<Figure size 504x432 with 1 Axes>"
      ]
     },
     "metadata": {
      "needs_background": "light"
     },
     "output_type": "display_data"
    },
    {
     "data": {
      "image/png": "[encoded data removed]",
      "text/plain": [
       "<Figure size 504x432 with 1 Axes>"
      ]
     },
     "metadata": {
      "needs_background": "light"
     },
     "output_type": "display_data"
    }
   ],
   "source": [
    "# Groupe/Clusters auxquel appartient le pays (1,2,3,4,5) --> Zone groupes mémorisée\n",
    "dfgrp.loc[dfgrp['groupe']==1, 'nomgroupe'] = \"Pays très faiblement développés et tres peu consommateurs de volailles\"\n",
    "dfgrp.loc[dfgrp['groupe']==2, 'nomgroupe'] = \"Pays bien developpés à fort potentiel et consommateurs de volailles\"\n",
    "dfgrp.loc[dfgrp['groupe']==3, 'nomgroupe'] = \"Pays faiblement développés et peu consommateurs de volailles\"\n",
    "dfgrp.loc[dfgrp['groupe']==4, 'nomgroupe'] = \"Pays moyennement développés et peu consommateurs de volailles\"\n",
    "dfgrp.loc[dfgrp['groupe']==5, 'nomgroupe'] = \"Pays moyen-orient à forte évol. démogr. et bons consommateurs de volailles\"\n",
    "dfgrp.loc[dfgrp['groupe']==6, 'nomgroupe'] = \"Pays moyennement développés mais fort consommateurs de volailles\"\n",
    "dfgrp['nomgroupe'] = (\"Groupe \" + dfgrp['groupe'].astype(str) + \" - \" + dfgrp['nomgroupe'])\n",
    "dfgrp\n",
    "\n",
    "# Projection des individus\n",
    "X_projected = pca.transform(X_scaled)\n",
    "# display_factorial_planes(X_projected, n_comp, pca, [(0,1),(0,2)], labels = np.array(names))\n",
    "#plt.legend(loc=(1.02,0), fontsize=12, shadow=True)\n",
    "display_factorial_planes(X_projected, n_comp, pca, [(0,1)], \n",
    "                        illustrative_var = dfgrp.nomgroupe, alpha = 0.99)\n",
    "plt.savefig('OUTFILES/Etude2-Projections_Groupes_1er_Plan_Facto_PJ5.png', dpi=100, bbox_inches='tight')\n",
    "plt.show()\n",
    "plt.close()\n",
    "\n",
    "display_factorial_planes(X_projected, n_comp, pca, [(0,2)], \n",
    "                         illustrative_var = dfgrp.nomgroupe, alpha = 0.99)\n",
    "plt.savefig('OUTFILES/Etude2-Projections_Groupes_2eme_Plan_Facto_PJ5.png', dpi=100, bbox_inches='tight')\n",
    "\n",
    "plt.show()\n",
    "plt.close()"
   ]
  },
  {
   "cell_type": "markdown",
   "metadata": {},
   "source": [
    "Sur la 1ère Projection, les points sont assez espacés montrant une variance signifiactive.  Bonne représentation des données  \n",
    "Sur la 2ème Projection, nous constatons que le groupe 5 est marginal, (valeur forte de l'evolution de la population constatée)  \n",
    "Pour mémoire, les 8 pays que nous avons sélectionnés etaient issus des groupes 2(4), 5(2) et 6(2)"
   ]
  },
  {
   "cell_type": "markdown",
   "metadata": {},
   "source": [
    "TROUVER LES PAYS AYANT :   \n",
    "- une VALEUR de F1 forte (>2) \n",
    "- une VALEUR de F2 forte (>2) pour une F1>0"
   ]
  },
  {
   "cell_type": "code",
   "execution_count": 19,
   "metadata": {
    "scrolled": true
   },
   "outputs": [
    {
     "data": {
      "text/html": [
       "<div>\n",
       "<style scoped>\n",
       "    .dataframe tbody tr th:only-of-type {\n",
       "        vertical-align: middle;\n",
       "    }\n",
       "\n",
       "    .dataframe tbody tr th {\n",
       "        vertical-align: top;\n",
       "    }\n",
       "\n",
       "    .dataframe thead th {\n",
       "        text-align: right;\n",
       "    }\n",
       "</style>\n",
       "<table border=\"1\" class=\"dataframe\">\n",
       "  <thead>\n",
       "    <tr style=\"text-align: right;\">\n",
       "      <th></th>\n",
       "      <th>F1</th>\n",
       "      <th>F2</th>\n",
       "      <th>F3</th>\n",
       "      <th>F4</th>\n",
       "      <th>F5</th>\n",
       "      <th>F6</th>\n",
       "    </tr>\n",
       "    <tr>\n",
       "      <th>pays</th>\n",
       "      <th></th>\n",
       "      <th></th>\n",
       "      <th></th>\n",
       "      <th></th>\n",
       "      <th></th>\n",
       "      <th></th>\n",
       "    </tr>\n",
       "  </thead>\n",
       "  <tbody>\n",
       "    <tr>\n",
       "      <th>Antigua-et-Barbuda</th>\n",
       "      <td>1.10</td>\n",
       "      <td>2.47</td>\n",
       "      <td>-0.31</td>\n",
       "      <td>-0.14</td>\n",
       "      <td>-0.13</td>\n",
       "      <td>0.63</td>\n",
       "    </tr>\n",
       "    <tr>\n",
       "      <th>Argentine</th>\n",
       "      <td>2.30</td>\n",
       "      <td>0.95</td>\n",
       "      <td>-0.12</td>\n",
       "      <td>-0.58</td>\n",
       "      <td>1.38</td>\n",
       "      <td>-0.02</td>\n",
       "    </tr>\n",
       "    <tr>\n",
       "      <th>Australie</th>\n",
       "      <td>3.31</td>\n",
       "      <td>0.47</td>\n",
       "      <td>1.30</td>\n",
       "      <td>0.95</td>\n",
       "      <td>-0.07</td>\n",
       "      <td>0.03</td>\n",
       "    </tr>\n",
       "    <tr>\n",
       "      <th>Autriche</th>\n",
       "      <td>2.74</td>\n",
       "      <td>-1.30</td>\n",
       "      <td>0.45</td>\n",
       "      <td>0.44</td>\n",
       "      <td>0.36</td>\n",
       "      <td>-0.63</td>\n",
       "    </tr>\n",
       "    <tr>\n",
       "      <th>Bahamas</th>\n",
       "      <td>2.14</td>\n",
       "      <td>2.72</td>\n",
       "      <td>0.33</td>\n",
       "      <td>0.04</td>\n",
       "      <td>0.02</td>\n",
       "      <td>0.25</td>\n",
       "    </tr>\n",
       "    <tr>\n",
       "      <th>Bermudes</th>\n",
       "      <td>3.46</td>\n",
       "      <td>1.68</td>\n",
       "      <td>0.15</td>\n",
       "      <td>2.51</td>\n",
       "      <td>-1.08</td>\n",
       "      <td>0.35</td>\n",
       "    </tr>\n",
       "    <tr>\n",
       "      <th>Brunei Darussalam</th>\n",
       "      <td>2.35</td>\n",
       "      <td>1.40</td>\n",
       "      <td>0.68</td>\n",
       "      <td>0.19</td>\n",
       "      <td>-0.87</td>\n",
       "      <td>0.11</td>\n",
       "    </tr>\n",
       "    <tr>\n",
       "      <th>Canada</th>\n",
       "      <td>2.75</td>\n",
       "      <td>-0.39</td>\n",
       "      <td>0.69</td>\n",
       "      <td>0.39</td>\n",
       "      <td>-0.14</td>\n",
       "      <td>-0.26</td>\n",
       "    </tr>\n",
       "    <tr>\n",
       "      <th>Danemark</th>\n",
       "      <td>2.67</td>\n",
       "      <td>-0.90</td>\n",
       "      <td>0.50</td>\n",
       "      <td>1.01</td>\n",
       "      <td>-0.18</td>\n",
       "      <td>0.09</td>\n",
       "    </tr>\n",
       "    <tr>\n",
       "      <th>Finlande</th>\n",
       "      <td>2.37</td>\n",
       "      <td>-1.40</td>\n",
       "      <td>0.26</td>\n",
       "      <td>0.52</td>\n",
       "      <td>-0.11</td>\n",
       "      <td>0.47</td>\n",
       "    </tr>\n",
       "    <tr>\n",
       "      <th>Allemagne</th>\n",
       "      <td>2.30</td>\n",
       "      <td>-1.04</td>\n",
       "      <td>-0.02</td>\n",
       "      <td>0.69</td>\n",
       "      <td>0.26</td>\n",
       "      <td>-0.37</td>\n",
       "    </tr>\n",
       "    <tr>\n",
       "      <th>Grenade</th>\n",
       "      <td>0.88</td>\n",
       "      <td>2.85</td>\n",
       "      <td>-0.90</td>\n",
       "      <td>-0.28</td>\n",
       "      <td>-1.07</td>\n",
       "      <td>0.12</td>\n",
       "    </tr>\n",
       "    <tr>\n",
       "      <th>Chine - RAS de Hong-Kong</th>\n",
       "      <td>3.77</td>\n",
       "      <td>0.61</td>\n",
       "      <td>0.19</td>\n",
       "      <td>-0.41</td>\n",
       "      <td>0.18</td>\n",
       "      <td>0.89</td>\n",
       "    </tr>\n",
       "    <tr>\n",
       "      <th>Islande</th>\n",
       "      <td>2.96</td>\n",
       "      <td>-1.27</td>\n",
       "      <td>0.46</td>\n",
       "      <td>0.10</td>\n",
       "      <td>0.06</td>\n",
       "      <td>1.01</td>\n",
       "    </tr>\n",
       "    <tr>\n",
       "      <th>Irlande</th>\n",
       "      <td>2.84</td>\n",
       "      <td>-1.01</td>\n",
       "      <td>0.29</td>\n",
       "      <td>0.47</td>\n",
       "      <td>0.01</td>\n",
       "      <td>-0.22</td>\n",
       "    </tr>\n",
       "    <tr>\n",
       "      <th>Israel</th>\n",
       "      <td>3.64</td>\n",
       "      <td>0.30</td>\n",
       "      <td>0.92</td>\n",
       "      <td>-1.29</td>\n",
       "      <td>-0.64</td>\n",
       "      <td>0.46</td>\n",
       "    </tr>\n",
       "    <tr>\n",
       "      <th>Italie</th>\n",
       "      <td>2.31</td>\n",
       "      <td>-1.25</td>\n",
       "      <td>-0.32</td>\n",
       "      <td>0.14</td>\n",
       "      <td>0.35</td>\n",
       "      <td>-0.21</td>\n",
       "    </tr>\n",
       "    <tr>\n",
       "      <th>Lituanie</th>\n",
       "      <td>2.33</td>\n",
       "      <td>-1.33</td>\n",
       "      <td>-1.52</td>\n",
       "      <td>-0.58</td>\n",
       "      <td>-0.03</td>\n",
       "      <td>0.71</td>\n",
       "    </tr>\n",
       "    <tr>\n",
       "      <th>Chine - RAS de Macao</th>\n",
       "      <td>2.76</td>\n",
       "      <td>0.69</td>\n",
       "      <td>2.18</td>\n",
       "      <td>2.21</td>\n",
       "      <td>0.02</td>\n",
       "      <td>0.11</td>\n",
       "    </tr>\n",
       "    <tr>\n",
       "      <th>Malte</th>\n",
       "      <td>2.08</td>\n",
       "      <td>-0.53</td>\n",
       "      <td>-0.19</td>\n",
       "      <td>-0.43</td>\n",
       "      <td>0.25</td>\n",
       "      <td>0.18</td>\n",
       "    </tr>\n",
       "    <tr>\n",
       "      <th>Pays-Bas</th>\n",
       "      <td>2.64</td>\n",
       "      <td>-0.54</td>\n",
       "      <td>0.19</td>\n",
       "      <td>0.87</td>\n",
       "      <td>0.35</td>\n",
       "      <td>0.37</td>\n",
       "    </tr>\n",
       "    <tr>\n",
       "      <th>Nouvelle-Zelande</th>\n",
       "      <td>2.14</td>\n",
       "      <td>0.53</td>\n",
       "      <td>0.45</td>\n",
       "      <td>0.65</td>\n",
       "      <td>0.42</td>\n",
       "      <td>-0.22</td>\n",
       "    </tr>\n",
       "    <tr>\n",
       "      <th>Norvege</th>\n",
       "      <td>3.16</td>\n",
       "      <td>-1.72</td>\n",
       "      <td>1.87</td>\n",
       "      <td>2.24</td>\n",
       "      <td>-0.86</td>\n",
       "      <td>-0.04</td>\n",
       "    </tr>\n",
       "    <tr>\n",
       "      <th>Portugal</th>\n",
       "      <td>2.39</td>\n",
       "      <td>-0.63</td>\n",
       "      <td>-0.83</td>\n",
       "      <td>-0.40</td>\n",
       "      <td>0.27</td>\n",
       "      <td>0.04</td>\n",
       "    </tr>\n",
       "    <tr>\n",
       "      <th>Saint-Kitts-et-Nevis</th>\n",
       "      <td>1.34</td>\n",
       "      <td>3.13</td>\n",
       "      <td>-0.26</td>\n",
       "      <td>-0.12</td>\n",
       "      <td>-0.54</td>\n",
       "      <td>0.07</td>\n",
       "    </tr>\n",
       "    <tr>\n",
       "      <th>Sainte-Lucie</th>\n",
       "      <td>1.78</td>\n",
       "      <td>2.85</td>\n",
       "      <td>-0.67</td>\n",
       "      <td>-0.53</td>\n",
       "      <td>-0.22</td>\n",
       "      <td>0.40</td>\n",
       "    </tr>\n",
       "    <tr>\n",
       "      <th>Saint-Vincent-et-les Grenadines</th>\n",
       "      <td>2.15</td>\n",
       "      <td>2.31</td>\n",
       "      <td>-1.03</td>\n",
       "      <td>-0.81</td>\n",
       "      <td>-0.33</td>\n",
       "      <td>-0.13</td>\n",
       "    </tr>\n",
       "    <tr>\n",
       "      <th>Espagne</th>\n",
       "      <td>2.05</td>\n",
       "      <td>-0.22</td>\n",
       "      <td>-0.53</td>\n",
       "      <td>0.22</td>\n",
       "      <td>0.35</td>\n",
       "      <td>0.25</td>\n",
       "    </tr>\n",
       "    <tr>\n",
       "      <th>Suede</th>\n",
       "      <td>2.26</td>\n",
       "      <td>-0.87</td>\n",
       "      <td>0.65</td>\n",
       "      <td>1.26</td>\n",
       "      <td>0.20</td>\n",
       "      <td>0.32</td>\n",
       "    </tr>\n",
       "    <tr>\n",
       "      <th>Suisse</th>\n",
       "      <td>2.36</td>\n",
       "      <td>-1.16</td>\n",
       "      <td>1.42</td>\n",
       "      <td>2.07</td>\n",
       "      <td>-0.30</td>\n",
       "      <td>-0.56</td>\n",
       "    </tr>\n",
       "    <tr>\n",
       "      <th>Royaume-Uni</th>\n",
       "      <td>2.39</td>\n",
       "      <td>-0.44</td>\n",
       "      <td>0.25</td>\n",
       "      <td>0.27</td>\n",
       "      <td>0.01</td>\n",
       "      <td>-0.19</td>\n",
       "    </tr>\n",
       "    <tr>\n",
       "      <th>Etats-Unis d'Amerique</th>\n",
       "      <td>3.67</td>\n",
       "      <td>0.08</td>\n",
       "      <td>0.56</td>\n",
       "      <td>0.06</td>\n",
       "      <td>-0.18</td>\n",
       "      <td>-0.42</td>\n",
       "    </tr>\n",
       "    <tr>\n",
       "      <th>Samoa</th>\n",
       "      <td>2.10</td>\n",
       "      <td>2.60</td>\n",
       "      <td>-0.56</td>\n",
       "      <td>-1.00</td>\n",
       "      <td>0.03</td>\n",
       "      <td>-0.17</td>\n",
       "    </tr>\n",
       "    <tr>\n",
       "      <th>Luxembourg</th>\n",
       "      <td>3.61</td>\n",
       "      <td>-1.45</td>\n",
       "      <td>2.82</td>\n",
       "      <td>2.40</td>\n",
       "      <td>-0.31</td>\n",
       "      <td>-0.10</td>\n",
       "    </tr>\n",
       "  </tbody>\n",
       "</table>\n",
       "</div>"
      ],
      "text/plain": [
       "                                  F1    F2    F3    F4    F5    F6\n",
       "pays                                                              \n",
       "Antigua-et-Barbuda              1.10  2.47 -0.31 -0.14 -0.13  0.63\n",
       "Argentine                       2.30  0.95 -0.12 -0.58  1.38 -0.02\n",
       "Australie                       3.31  0.47  1.30  0.95 -0.07  0.03\n",
       "Autriche                        2.74 -1.30  0.45  0.44  0.36 -0.63\n",
       "Bahamas                         2.14  2.72  0.33  0.04  0.02  0.25\n",
       "Bermudes                        3.46  1.68  0.15  2.51 -1.08  0.35\n",
       "Brunei Darussalam               2.35  1.40  0.68  0.19 -0.87  0.11\n",
       "Canada                          2.75 -0.39  0.69  0.39 -0.14 -0.26\n",
       "Danemark                        2.67 -0.90  0.50  1.01 -0.18  0.09\n",
       "Finlande                        2.37 -1.40  0.26  0.52 -0.11  0.47\n",
       "Allemagne                       2.30 -1.04 -0.02  0.69  0.26 -0.37\n",
       "Grenade                         0.88  2.85 -0.90 -0.28 -1.07  0.12\n",
       "Chine - RAS de Hong-Kong        3.77  0.61  0.19 -0.41  0.18  0.89\n",
       "Islande                         2.96 -1.27  0.46  0.10  0.06  1.01\n",
       "Irlande                         2.84 -1.01  0.29  0.47  0.01 -0.22\n",
       "Israel                          3.64  0.30  0.92 -1.29 -0.64  0.46\n",
       "Italie                          2.31 -1.25 -0.32  0.14  0.35 -0.21\n",
       "Lituanie                        2.33 -1.33 -1.52 -0.58 -0.03  0.71\n",
       "Chine - RAS de Macao            2.76  0.69  2.18  2.21  0.02  0.11\n",
       "Malte                           2.08 -0.53 -0.19 -0.43  0.25  0.18\n",
       "Pays-Bas                        2.64 -0.54  0.19  0.87  0.35  0.37\n",
       "Nouvelle-Zelande                2.14  0.53  0.45  0.65  0.42 -0.22\n",
       "Norvege                         3.16 -1.72  1.87  2.24 -0.86 -0.04\n",
       "Portugal                        2.39 -0.63 -0.83 -0.40  0.27  0.04\n",
       "Saint-Kitts-et-Nevis            1.34  3.13 -0.26 -0.12 -0.54  0.07\n",
       "Sainte-Lucie                    1.78  2.85 -0.67 -0.53 -0.22  0.40\n",
       "Saint-Vincent-et-les Grenadines 2.15  2.31 -1.03 -0.81 -0.33 -0.13\n",
       "Espagne                         2.05 -0.22 -0.53  0.22  0.35  0.25\n",
       "Suede                           2.26 -0.87  0.65  1.26  0.20  0.32\n",
       "Suisse                          2.36 -1.16  1.42  2.07 -0.30 -0.56\n",
       "Royaume-Uni                     2.39 -0.44  0.25  0.27  0.01 -0.19\n",
       "Etats-Unis d'Amerique           3.67  0.08  0.56  0.06 -0.18 -0.42\n",
       "Samoa                           2.10  2.60 -0.56 -1.00  0.03 -0.17\n",
       "Luxembourg                      3.61 -1.45  2.82  2.40 -0.31 -0.10"
      ]
     },
     "execution_count": 19,
     "metadata": {},
     "output_type": "execute_result"
    }
   ],
   "source": [
    "#df_comp[((df_comp['F1'] > 2) & (df_comp['F2'] > 0)) | ((df_comp['F1'] > 0) & (df_comp['F2'] > 2)) ]\n",
    "df_comp = df_comp[(df_comp['F1'] > 2) | ((df_comp['F1'] > 0) & (df_comp['F2'] > 2)) ]\n",
    "df_comp"
   ]
  },
  {
   "cell_type": "markdown",
   "metadata": {},
   "source": [
    "#### A ce Stade il devient intéressant de rajouter :\n",
    "- La population  \n",
    "- La zone \"Trade Value $\" de commerce entre la France et un pays acheteur en 2013"
   ]
  },
  {
   "cell_type": "code",
   "execution_count": 20,
   "metadata": {
    "scrolled": true
   },
   "outputs": [
    {
     "data": {
      "image/png": "[encoded data removed]",
      "text/plain": [
       "<Figure size 1260x288 with 1 Axes>"
      ]
     },
     "metadata": {
      "needs_background": "light"
     },
     "output_type": "display_data"
    }
   ],
   "source": [
    "sel = df_comp.copy()\n",
    "sel = sel.merge(df, left_index=True, right_index=True)\n",
    "sel.drop(columns=['F1', 'F2', 'F3', 'F4','F5','F6', 'ratio_prot_viande_%'], inplace=True)\n",
    "# A ce Stade, il est intéressant de remettre la population du pays (en milliers de p)\n",
    "# Jointure Table pop pour Recupérer les données population des pays en 2013\n",
    "sel = sel.merge(gen[['pays','population','tot_poultry_exch_$']], right_on='pays', left_index=True)\n",
    "sel = sel.set_index('pays')\n",
    "# Eliminons les Pays n'ayant pas fait de commerce de volailles avec la France en 2013  < 100'000 $\n",
    "sel.drop(sel[sel['tot_poultry_exch_$'] < 100000].index, inplace=True)\n",
    "# Eliminons les Pays de moins d'1Millions d'habitants\n",
    "sel.drop(sel[sel['population'] < 1000000].index, inplace=True)\n",
    "# Renommer Nom_Colonnes\n",
    "sel.columns = [\"Evo_Pop\", \"Qt_Kcal/h\", \"Qt_Prot_gr/h\", \"Qt_Vol_Kg/h\", \"PIB$/h\", \"Groupe\", \"Population\", \"Trade_Value($)\"]\n",
    "\n",
    "#  Mise en Forme\n",
    "sel['Evo_Pop'] = round(sel['Evo_Pop'], 2)\n",
    "sel['Qt_Vol_Kg/h'] = round(sel['Qt_Vol_Kg/h'], 2)\n",
    "sel['PIB$/h'] = round(sel['PIB$/h'], 2)\n",
    "sel['Trade_Value($)'] = round(sel['Trade_Value($)'], 2)\n",
    "sel = sel.reset_index()\n",
    "cols =  ['pays', 'Groupe', 'Population', 'Evo_Pop', 'Trade_Value($)', 'PIB$/h', 'Qt_Vol_Kg/h']\n",
    "sel = sel[cols]\n",
    "sel = sel.sort_values('Qt_Vol_Kg/h', ascending = False)\n",
    "render_mpl_table(sel, col_width=2.5, row_height=0.8, font_size=12)\n",
    "plt.savefig('OUTFILES/Etude3-Liste_Pays_Cibles.png', dpi=100, bbox_inches='tight')\n",
    "plt.show()\n",
    "plt.close()\n",
    "sel.to_excel('OUTFILES/Etude3-Liste_Pays_Cibles.xlsx', 'Liste_Pays')\n"
   ]
  },
  {
   "cell_type": "markdown",
   "metadata": {},
   "source": [
    "VOICI UNE PROPOSITION DE LISTE DE PAYS A DEMARCHER par Ordre de PIB/h Decroissant"
   ]
  },
  {
   "cell_type": "code",
   "execution_count": 21,
   "metadata": {
    "scrolled": false
   },
   "outputs": [
    {
     "data": {
      "text/html": [
       "<div>\n",
       "<style scoped>\n",
       "    .dataframe tbody tr th:only-of-type {\n",
       "        vertical-align: middle;\n",
       "    }\n",
       "\n",
       "    .dataframe tbody tr th {\n",
       "        vertical-align: top;\n",
       "    }\n",
       "\n",
       "    .dataframe thead th {\n",
       "        text-align: right;\n",
       "    }\n",
       "</style>\n",
       "<table border=\"1\" class=\"dataframe\">\n",
       "  <thead>\n",
       "    <tr style=\"text-align: right;\">\n",
       "      <th></th>\n",
       "      <th>Groupe</th>\n",
       "      <th>Population</th>\n",
       "      <th>Evo_Pop</th>\n",
       "      <th>Trade_Value($)</th>\n",
       "      <th>PIB$/h</th>\n",
       "      <th>Qt_Vol_Kg/h</th>\n",
       "    </tr>\n",
       "    <tr>\n",
       "      <th>pays</th>\n",
       "      <th></th>\n",
       "      <th></th>\n",
       "      <th></th>\n",
       "      <th></th>\n",
       "      <th></th>\n",
       "      <th></th>\n",
       "    </tr>\n",
       "  </thead>\n",
       "  <tbody>\n",
       "    <tr>\n",
       "      <th>Chine - RAS de Hong-Kong</th>\n",
       "      <td>2</td>\n",
       "      <td>7,148,571.00</td>\n",
       "      <td>1.76</td>\n",
       "      <td>40,973,365.00</td>\n",
       "      <td>38,403.78</td>\n",
       "      <td>57.07</td>\n",
       "    </tr>\n",
       "    <tr>\n",
       "      <th>Canada</th>\n",
       "      <td>2</td>\n",
       "      <td>35,255,495.00</td>\n",
       "      <td>3.18</td>\n",
       "      <td>2,344,440.00</td>\n",
       "      <td>52,418.32</td>\n",
       "      <td>36.59</td>\n",
       "    </tr>\n",
       "    <tr>\n",
       "      <th>Norvege</th>\n",
       "      <td>2</td>\n",
       "      <td>5,077,101.00</td>\n",
       "      <td>3.91</td>\n",
       "      <td>608,292.00</td>\n",
       "      <td>103,059.25</td>\n",
       "      <td>20.88</td>\n",
       "    </tr>\n",
       "    <tr>\n",
       "      <th>Suisse</th>\n",
       "      <td>2</td>\n",
       "      <td>8,132,674.00</td>\n",
       "      <td>3.84</td>\n",
       "      <td>50,578,938.00</td>\n",
       "      <td>85,112.46</td>\n",
       "      <td>16.23</td>\n",
       "    </tr>\n",
       "  </tbody>\n",
       "</table>\n",
       "</div>"
      ],
      "text/plain": [
       "                          Groupe    Population  Evo_Pop  Trade_Value($)  \\\n",
       "pays                                                                      \n",
       "Chine - RAS de Hong-Kong       2  7,148,571.00     1.76   40,973,365.00   \n",
       "Canada                         2 35,255,495.00     3.18    2,344,440.00   \n",
       "Norvege                        2  5,077,101.00     3.91      608,292.00   \n",
       "Suisse                         2  8,132,674.00     3.84   50,578,938.00   \n",
       "\n",
       "                             PIB$/h  Qt_Vol_Kg/h  \n",
       "pays                                              \n",
       "Chine - RAS de Hong-Kong  38,403.78        57.07  \n",
       "Canada                    52,418.32        36.59  \n",
       "Norvege                  103,059.25        20.88  \n",
       "Suisse                    85,112.46        16.23  "
      ]
     },
     "execution_count": 21,
     "metadata": {},
     "output_type": "execute_result"
    }
   ],
   "source": [
    "sel.set_index('pays')"
   ]
  },
  {
   "cell_type": "markdown",
   "metadata": {},
   "source": [
    "<hr style=\"height: 3px; color: #839D2D; width: 100%; \">\n",
    "\n",
    "### <font color='#61210B'>TESTS STATISTIQUES</font>"
   ]
  },
  {
   "cell_type": "markdown",
   "metadata": {},
   "source": [
    "### Test d'adéquation à la loi normale avec Shapiro-Wilk"
   ]
  },
  {
   "cell_type": "code",
   "execution_count": 22,
   "metadata": {
    "scrolled": false
   },
   "outputs": [
    {
     "data": {
      "text/html": [
       "<div>\n",
       "<style scoped>\n",
       "    .dataframe tbody tr th:only-of-type {\n",
       "        vertical-align: middle;\n",
       "    }\n",
       "\n",
       "    .dataframe tbody tr th {\n",
       "        vertical-align: top;\n",
       "    }\n",
       "\n",
       "    .dataframe thead th {\n",
       "        text-align: right;\n",
       "    }\n",
       "</style>\n",
       "<table border=\"1\" class=\"dataframe\">\n",
       "  <thead>\n",
       "    <tr style=\"text-align: right;\">\n",
       "      <th></th>\n",
       "      <th>evo_pop_%</th>\n",
       "      <th>ratio_prot_viande_%</th>\n",
       "      <th>qt_kcal/h</th>\n",
       "      <th>qt_prot_gr/h</th>\n",
       "      <th>qt_volaille_Kg/h</th>\n",
       "      <th>PIBh_$</th>\n",
       "      <th>groupe</th>\n",
       "    </tr>\n",
       "    <tr>\n",
       "      <th>pays</th>\n",
       "      <th></th>\n",
       "      <th></th>\n",
       "      <th></th>\n",
       "      <th></th>\n",
       "      <th></th>\n",
       "      <th></th>\n",
       "      <th></th>\n",
       "    </tr>\n",
       "  </thead>\n",
       "  <tbody>\n",
       "    <tr>\n",
       "      <th>Armenie</th>\n",
       "      <td>0.56</td>\n",
       "      <td>17.91</td>\n",
       "      <td>2,928.00</td>\n",
       "      <td>90.04</td>\n",
       "      <td>13.82</td>\n",
       "      <td>3,843.59</td>\n",
       "      <td>4</td>\n",
       "    </tr>\n",
       "    <tr>\n",
       "      <th>Afghanistan</th>\n",
       "      <td>10.17</td>\n",
       "      <td>8.33</td>\n",
       "      <td>2,090.00</td>\n",
       "      <td>58.25</td>\n",
       "      <td>2.33</td>\n",
       "      <td>647.97</td>\n",
       "      <td>1</td>\n",
       "    </tr>\n",
       "    <tr>\n",
       "      <th>Albanie</th>\n",
       "      <td>-0.73</td>\n",
       "      <td>20.39</td>\n",
       "      <td>3,193.00</td>\n",
       "      <td>111.42</td>\n",
       "      <td>14.39</td>\n",
       "      <td>4,413.08</td>\n",
       "      <td>4</td>\n",
       "    </tr>\n",
       "    <tr>\n",
       "      <th>Algerie</th>\n",
       "      <td>6.15</td>\n",
       "      <td>8.16</td>\n",
       "      <td>3,296.00</td>\n",
       "      <td>91.96</td>\n",
       "      <td>7.59</td>\n",
       "      <td>5,471.12</td>\n",
       "      <td>4</td>\n",
       "    </tr>\n",
       "    <tr>\n",
       "      <th>Angola</th>\n",
       "      <td>11.25</td>\n",
       "      <td>21.73</td>\n",
       "      <td>2,473.00</td>\n",
       "      <td>57.26</td>\n",
       "      <td>14.31</td>\n",
       "      <td>5,258.41</td>\n",
       "      <td>1</td>\n",
       "    </tr>\n",
       "  </tbody>\n",
       "</table>\n",
       "</div>"
      ],
      "text/plain": [
       "             evo_pop_%  ratio_prot_viande_%  qt_kcal/h  qt_prot_gr/h  \\\n",
       "pays                                                                   \n",
       "Armenie           0.56                17.91   2,928.00         90.04   \n",
       "Afghanistan      10.17                 8.33   2,090.00         58.25   \n",
       "Albanie          -0.73                20.39   3,193.00        111.42   \n",
       "Algerie           6.15                 8.16   3,296.00         91.96   \n",
       "Angola           11.25                21.73   2,473.00         57.26   \n",
       "\n",
       "             qt_volaille_Kg/h   PIBh_$  groupe  \n",
       "pays                                            \n",
       "Armenie                 13.82 3,843.59       4  \n",
       "Afghanistan              2.33   647.97       1  \n",
       "Albanie                 14.39 4,413.08       4  \n",
       "Algerie                  7.59 5,471.12       4  \n",
       "Angola                  14.31 5,258.41       1  "
      ]
     },
     "execution_count": 22,
     "metadata": {},
     "output_type": "execute_result"
    }
   ],
   "source": [
    "df.head()"
   ]
  },
  {
   "cell_type": "code",
   "execution_count": 23,
   "metadata": {
    "scrolled": false
   },
   "outputs": [
    {
     "data": {
      "image/png": "[encoded data removed]",
      "text/plain": [
       "<Figure size 432x288 with 1 Axes>"
      ]
     },
     "metadata": {
      "needs_background": "light"
     },
     "output_type": "display_data"
    },
    {
     "data": {
      "image/png": "[encoded data removed]",
      "text/plain": [
       "<Figure size 432x288 with 1 Axes>"
      ]
     },
     "metadata": {
      "needs_background": "light"
     },
     "output_type": "display_data"
    }
   ],
   "source": [
    "# Trouver une Variable dont la loi est normale\n",
    "# Prenons le cas de la Variable \"qt_kcal/h\"\n",
    "#plt.hist(df1_comp['F2'])\n",
    "\n",
    "ax1 = plt.subplot(111)\n",
    "res = plt.hist(gp1['qt_kcal/h'])\n",
    "plt.savefig('OUTFILES/Etude4-Test_Var_Loi_Normal_Fig1_PJ5.png', dpi=100, bbox_inches='tight')\n",
    "plt.show()\n",
    "\n",
    "\n",
    "ax2 = plt.subplot(111)\n",
    "res = scst.probplot(gp1['qt_kcal/h'], dist=\"norm\", plot=plt)\n",
    "plt.savefig('OUTFILES/Etude4-Test_Var_Loi_Normal_Fig2_PJ5.png', dpi=100, bbox_inches='tight')\n",
    "plt.show()\n",
    "plt.close()"
   ]
  },
  {
   "cell_type": "markdown",
   "metadata": {},
   "source": [
    "#### Test de Shapiro-Wilk  \n",
    "Plus robuste que Kolmogorov-smirnov avec des echantillons faibles  \n",
    "\n",
    "Valeur retournée :  W:Test statistic,  p-value:pour hypothese loi normale  \n",
    "Hypothèse nulle H0 : la variable suit une loi normale   -  Fixer seuil à  : <b>α = 5%</b>  (Idéalement, il faudrait même avoir un seuil à 0.2)  \n",
    "Le but du Test est de ne pas rejeter H0\n",
    "\n",
    "<u>Interprétation</u>  \n",
    "- Si la <b>p-value < α </b> : > Alors l'hypothèse nulle est rejetée (i.e. il est probable que les données NE sont PAS issues d'une population normalement distribuée)  \n",
    "\n",
    "- Si la <b>p-value > α </b> : > Alors on doit pas rejeter l'hypothèse (i.e. il est probable que la variable suive une loi normale)"
   ]
  },
  {
   "cell_type": "code",
   "execution_count": 24,
   "metadata": {},
   "outputs": [
    {
     "name": "stdout",
     "output_type": "stream",
     "text": [
      "Shapiro Test Result ---  evo_pop_% --- :  (0.9661992788314819, 0.5278126001358032)\n",
      "Shapiro Test Result ---  ratio_prot_viande_% --- :  (0.9330544471740723, 0.09164133667945862)\n",
      "Shapiro Test Result ---  qt_kcal/h --- :  (0.9723598957061768, 0.6851411461830139)\n",
      "Shapiro Test Result ---  qt_prot_gr/h --- :  (0.9762445688247681, 0.7859658002853394)\n",
      "Shapiro Test Result ---  qt_volaille_Kg/h --- :  (0.9708713889122009, 0.6460330486297607)\n",
      "Shapiro Test Result ---  PIBh_$ --- :  (0.6939053535461426, 4.380546215543291e-06)\n",
      "Shapiro Test Result ---  groupe --- :  (1.0, 1.0)\n"
     ]
    },
    {
     "name": "stderr",
     "output_type": "stream",
     "text": [
      "C:\\Users\\boiss\\Anaconda3\\lib\\site-packages\\scipy\\stats\\morestats.py:1657: UserWarning: Input data for shapiro has range zero. The results may not be accurate.\n",
      "  warnings.warn(\"Input data for shapiro has range zero. The results \"\n"
     ]
    }
   ],
   "source": [
    "shapi = gp3.copy()\n",
    "for column in shapi:\n",
    "    a = scst.shapiro(shapi[column])\n",
    "    print(\"Shapiro Test Result --- \", column, \"--- : \", a)"
   ]
  },
  {
   "cell_type": "code",
   "execution_count": 25,
   "metadata": {},
   "outputs": [
    {
     "name": "stdout",
     "output_type": "stream",
     "text": [
      "La p-value du Test de Shapiro est : 0.6176212430000305\n"
     ]
    }
   ],
   "source": [
    "# Prenons la variable \"qt_kcal/h\" du Dataframe du Groupe 1\n",
    "a = scst.shapiro(gp1['qt_kcal/h'])\n",
    "print(\"La p-value du Test de Shapiro est :\", a[1])"
   ]
  },
  {
   "cell_type": "markdown",
   "metadata": {},
   "source": [
    "La p-value est de 61.7%, on ne rejete pas l'hypothèse nulle -->  La variable suit une loi normale."
   ]
  },
  {
   "cell_type": "markdown",
   "metadata": {},
   "source": [
    "<hr style=\"height: 2px; color: #839D2D; width: 100%; \">\n",
    "\n",
    "### Test de comparaison de deux populations (cas gaussien) avec <b>Bartlett</b> et le <b>T de Student</p>  \n",
    "Trouver d'abord une variable qui suive une loi normale dans 2 clusters/groupes differents  \n",
    "\n",
    "Prenons le cas de la variable précédente qt_kcal/h (qui suit une loi gaussienne) et regardons là sur les groupes 1 & 2 par exemple :  \n",
    "<b>° Groupe1 - Pays très faiblement développés (PIB/h faible) et tres peu consommateurs de volailles</b>  \n",
    "<b>° Groupe2 - Pays bien developpés à fort potentiel (PIB/h élevé) et moyennement consommateurs de volailles</b>  \n",
    "° Groupe3 - Pays faiblement développés et peu consommateurs de volailles  \n",
    "° Groupe4 - Pays moyennement développés et peu consommateurs de volailles  \n",
    "° Groupe5 - Pays moyen-orient à forte évolution démographique et bons consommateurs de volailles  \n",
    "° Groupe6 - Pays moyennement développés mais fort consommateurs de volailles  "
   ]
  },
  {
   "cell_type": "code",
   "execution_count": 26,
   "metadata": {
    "scrolled": true
   },
   "outputs": [
    {
     "name": "stdout",
     "output_type": "stream",
     "text": [
      "La p-value de la variable ['qt_kcal/h'] du Test de Shapiro sur le Groupe 1 est : 0.6176212430000305\n",
      "La p-value de la variable ['qt_kcal/h'] du Test de Shapiro sur le Groupe 2 est : 0.14615757763385773\n"
     ]
    }
   ],
   "source": [
    "# Test de Shapiro sur Variable Qt_kcal/h  pour le groupe1 - Pays faiblement developpé\n",
    "shap_gr1 = scst.shapiro(gp1['qt_kcal/h'])\n",
    "shap_gr2 = scst.shapiro(gp2['qt_kcal/h'])\n",
    "print(\"La p-value de la variable ['qt_kcal/h'] du Test de Shapiro sur le Groupe 1 est :\", shap_gr1[1])\n",
    "print(\"La p-value de la variable ['qt_kcal/h'] du Test de Shapiro sur le Groupe 2 est :\", shap_gr2[1])"
   ]
  },
  {
   "cell_type": "markdown",
   "metadata": {},
   "source": [
    "Comparons les variances avec le <b>Test de Bartlett</b>.   \n",
    "* Hypothèse nulle (H0) = Egalité des variances de la variable Qt_Kcal/h sur les groupes 1 & 2"
   ]
  },
  {
   "cell_type": "code",
   "execution_count": 27,
   "metadata": {},
   "outputs": [
    {
     "name": "stdout",
     "output_type": "stream",
     "text": [
      "La p-value de la variable ['qt_kcal/h'] du Test de Bartlett sur les Groupe 1 & 2 est : 0.8910800071519371\n"
     ]
    }
   ],
   "source": [
    "bart = scst.bartlett(gp1['qt_kcal/h'], gp2['qt_kcal/h'])\n",
    "print(\"La p-value de la variable ['qt_kcal/h'] du Test de Bartlett sur les Groupe 1 & 2 est :\", bart[1])"
   ]
  },
  {
   "cell_type": "markdown",
   "metadata": {},
   "source": [
    "<u>CONCLUSION (Test Bartlett)</u> :   \n",
    "La p-value élevée nous indique que l'on ne rejette pas l'hypothèse nulle H0 de l'égalité des variances de la variable Qt_Kcal/h sur les deux echantillons de pays Groupe1 & Groupe2."
   ]
  },
  {
   "cell_type": "markdown",
   "metadata": {},
   "source": [
    "Il nous faut donc poursuivre le test d'egalité des echantilloons en comparant les moyennes :  \n",
    "Comparons les moyennes avec le <b>Test de Student (t)</b>.   \n",
    "* Hypothèse nulle (H0) = Egalité des moyennes de la variable Qt_Kcal/h sur les groupes 1 & 2"
   ]
  },
  {
   "cell_type": "code",
   "execution_count": 28,
   "metadata": {
    "scrolled": false
   },
   "outputs": [
    {
     "name": "stdout",
     "output_type": "stream",
     "text": [
      "La p-value de la variable ['qt_kcal/h'] du Test (t) de Student sur les Groupe 1 & 2 est : 4.156224404098472e-24\n"
     ]
    }
   ],
   "source": [
    "t = scst.ttest_ind(gp1['qt_kcal/h'], gp2['qt_kcal/h'], equal_var=True)\n",
    "print(\"La p-value de la variable ['qt_kcal/h'] du Test (t) de Student sur les Groupe 1 & 2 est :\", t[1])"
   ]
  },
  {
   "cell_type": "markdown",
   "metadata": {},
   "source": [
    "<u>CONCLUSION (Test (t) de Student</u> :   \n",
    "La p-value très faible 10 ^(-24) nous permet de rejeter (très facilement) l'hypothèse nulle H0 même avec un risque  \n",
    "alpha = 1%\n",
    "L'égalité des moyennes de la variable Qt_Kcal/h sur les deux echantillons de pays Groupe1 & Groupe2 n'est donc pas vraie.  \n",
    "On peut le constater avec le calcul des centroides que l'on a effectué un peu plus tot"
   ]
  },
  {
   "cell_type": "code",
   "execution_count": 29,
   "metadata": {
    "scrolled": false
   },
   "outputs": [
    {
     "data": {
      "text/html": [
       "<div>\n",
       "<style scoped>\n",
       "    .dataframe tbody tr th:only-of-type {\n",
       "        vertical-align: middle;\n",
       "    }\n",
       "\n",
       "    .dataframe tbody tr th {\n",
       "        vertical-align: top;\n",
       "    }\n",
       "\n",
       "    .dataframe thead th {\n",
       "        text-align: right;\n",
       "    }\n",
       "</style>\n",
       "<table border=\"1\" class=\"dataframe\">\n",
       "  <thead>\n",
       "    <tr style=\"text-align: right;\">\n",
       "      <th></th>\n",
       "      <th>count</th>\n",
       "      <th>evo_pop_%</th>\n",
       "      <th>qt_kcal/h</th>\n",
       "      <th>qt_prot_gr/h</th>\n",
       "      <th>ratio_prot_viande_%</th>\n",
       "      <th>qt_volaille_Kg/h</th>\n",
       "      <th>PIBh_$</th>\n",
       "    </tr>\n",
       "    <tr>\n",
       "      <th>groupe</th>\n",
       "      <th></th>\n",
       "      <th></th>\n",
       "      <th></th>\n",
       "      <th></th>\n",
       "      <th></th>\n",
       "      <th></th>\n",
       "      <th></th>\n",
       "    </tr>\n",
       "  </thead>\n",
       "  <tbody>\n",
       "    <tr>\n",
       "      <th>1</th>\n",
       "      <td>51</td>\n",
       "      <td>7.53</td>\n",
       "      <td>2,393.65</td>\n",
       "      <td>60.29</td>\n",
       "      <td>10.81</td>\n",
       "      <td>4.89</td>\n",
       "      <td>1,793.06</td>\n",
       "    </tr>\n",
       "    <tr>\n",
       "      <th>2</th>\n",
       "      <td>22</td>\n",
       "      <td>2.58</td>\n",
       "      <td>3,391.59</td>\n",
       "      <td>108.31</td>\n",
       "      <td>29.61</td>\n",
       "      <td>31.87</td>\n",
       "      <td>59,650.60</td>\n",
       "    </tr>\n",
       "    <tr>\n",
       "      <th>3</th>\n",
       "      <td>26</td>\n",
       "      <td>3.97</td>\n",
       "      <td>2,676.62</td>\n",
       "      <td>72.78</td>\n",
       "      <td>21.56</td>\n",
       "      <td>18.96</td>\n",
       "      <td>5,490.82</td>\n",
       "    </tr>\n",
       "    <tr>\n",
       "      <th>4</th>\n",
       "      <td>38</td>\n",
       "      <td>0.86</td>\n",
       "      <td>3,193.55</td>\n",
       "      <td>96.30</td>\n",
       "      <td>19.47</td>\n",
       "      <td>19.61</td>\n",
       "      <td>12,570.54</td>\n",
       "    </tr>\n",
       "    <tr>\n",
       "      <th>5</th>\n",
       "      <td>4</td>\n",
       "      <td>20.21</td>\n",
       "      <td>3,202.50</td>\n",
       "      <td>88.95</td>\n",
       "      <td>22.81</td>\n",
       "      <td>32.07</td>\n",
       "      <td>20,606.95</td>\n",
       "    </tr>\n",
       "    <tr>\n",
       "      <th>6</th>\n",
       "      <td>27</td>\n",
       "      <td>3.38</td>\n",
       "      <td>2,900.26</td>\n",
       "      <td>84.73</td>\n",
       "      <td>29.41</td>\n",
       "      <td>52.15</td>\n",
       "      <td>13,777.15</td>\n",
       "    </tr>\n",
       "  </tbody>\n",
       "</table>\n",
       "</div>"
      ],
      "text/plain": [
       "        count  evo_pop_%  qt_kcal/h  qt_prot_gr/h  ratio_prot_viande_%  \\\n",
       "groupe                                                                   \n",
       "1          51       7.53   2,393.65         60.29                10.81   \n",
       "2          22       2.58   3,391.59        108.31                29.61   \n",
       "3          26       3.97   2,676.62         72.78                21.56   \n",
       "4          38       0.86   3,193.55         96.30                19.47   \n",
       "5           4      20.21   3,202.50         88.95                22.81   \n",
       "6          27       3.38   2,900.26         84.73                29.41   \n",
       "\n",
       "        qt_volaille_Kg/h    PIBh_$  \n",
       "groupe                              \n",
       "1                   4.89  1,793.06  \n",
       "2                  31.87 59,650.60  \n",
       "3                  18.96  5,490.82  \n",
       "4                  19.61 12,570.54  \n",
       "5                  32.07 20,606.95  \n",
       "6                  52.15 13,777.15  "
      ]
     },
     "execution_count": 29,
     "metadata": {},
     "output_type": "execute_result"
    }
   ],
   "source": [
    "centroide"
   ]
  },
  {
   "cell_type": "markdown",
   "metadata": {},
   "source": [
    "### Conclusion  :  Test de comparaison de deux populations   \n",
    "\n",
    "Pour que les echantillons suivent la même loi de distribution il faut que les hypothèses d'égalité des variances ET des moyennes (H0) n'aient pas été rejetées.  \n",
    "Or ici, le test des variances etait OK mais pas celui des moyennes.  \n",
    "Donc nos deux echantillons \"gaussiens\" n'ont PAS la même distribution."
   ]
  },
  {
   "cell_type": "code",
   "execution_count": 30,
   "metadata": {},
   "outputs": [
    {
     "name": "stdout",
     "output_type": "stream",
     "text": [
      "--- Durée TOTALE du Notebook PJ5 -1- Load&Clean ---  11.99493 seconds\n"
     ]
    }
   ],
   "source": [
    "dureetotale = round(time.time() - trt_start_time, 5)\n",
    "print(\"--- Durée TOTALE du Notebook PJ5 -1- Load&Clean --- \", \"%s seconds\" % dureetotale)"
   ]
  }
 ],
 "metadata": {
  "kernelspec": {
   "display_name": "Python 3",
   "language": "python",
   "name": "python3"
  },
  "language_info": {
   "codemirror_mode": {
    "name": "ipython",
    "version": 3
   },
   "file_extension": ".py",
   "mimetype": "text/x-python",
   "name": "python",
   "nbconvert_exporter": "python",
   "pygments_lexer": "ipython3",
   "version": "3.7.6"
  },
  "varInspector": {
   "cols": {
    "lenName": 16,
    "lenType": 16,
    "lenVar": 40
   },
   "kernels_config": {
    "python": {
     "delete_cmd_postfix": "",
     "delete_cmd_prefix": "del ",
     "library": "var_list.py",
     "varRefreshCmd": "print(var_dic_list())"
    },
    "r": {
     "delete_cmd_postfix": ") ",
     "delete_cmd_prefix": "rm(",
     "library": "var_list.r",
     "varRefreshCmd": "cat(var_dic_list()) "
    }
   },
   "types_to_exclude": [
    "module",
    "function",
    "builtin_function_or_method",
    "instance",
    "_Feature"
   ],
   "window_display": false
  }
 },
 "nbformat": 4,
 "nbformat_minor": 2
}
